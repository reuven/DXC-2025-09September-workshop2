{
 "cells": [
  {
   "cell_type": "markdown",
   "metadata": {},
   "source": [
    "# Agenda\n",
    "\n",
    "1. Command-line programs and arguments\n",
    "2. `argparse` -- the standard library's way of dealing with arguments\n",
    "3. Practice with `argparse`\n",
    "    - Types\n",
    "    - Defaults\n",
    "    - Positional vs. keyword command-line arguments\n",
    "    - Files\n",
    "\n",
    "Next 2 times:\n",
    "\n",
    "4. Write modules\n",
    "5. Load those modules as dynamic functionality\n",
    "6. Write an extensible command-line program\n",
    "7. Testing of this with `pytest`"
   ]
  },
  {
   "cell_type": "markdown",
   "metadata": {},
   "source": [
    "# Command-line programs\n",
    "\n"
   ]
  }
 ],
 "metadata": {
  "kernelspec": {
   "display_name": "Python 3 (ipykernel)",
   "language": "python",
   "name": "python3"
  },
  "language_info": {
   "codemirror_mode": {
    "name": "ipython",
    "version": 3
   },
   "file_extension": ".py",
   "mimetype": "text/x-python",
   "name": "python",
   "nbconvert_exporter": "python",
   "pygments_lexer": "ipython3",
   "version": "3.13.5"
  }
 },
 "nbformat": 4,
 "nbformat_minor": 4
}

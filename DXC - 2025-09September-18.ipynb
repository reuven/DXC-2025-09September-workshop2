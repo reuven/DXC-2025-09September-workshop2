{
 "cells": [
  {
   "cell_type": "markdown",
   "metadata": {},
   "source": [
    "# Agenda\n",
    "\n",
    "1. Command-line programs and arguments\n",
    "2. `argparse` -- the standard library's way of dealing with arguments\n",
    "3. Practice with `argparse`\n",
    "    - Types\n",
    "    - Defaults\n",
    "    - Positional vs. keyword command-line arguments\n",
    "    - Files\n",
    "\n",
    "Next 2 times:\n",
    "\n",
    "4. Write modules\n",
    "5. Load those modules as dynamic functionality\n",
    "6. Write an extensible command-line program\n",
    "7. Testing of this with `pytest`"
   ]
  },
  {
   "cell_type": "markdown",
   "metadata": {},
   "source": [
    "# Command-line programs\n",
    "\n",
    "When we run a Python program from the command line, how can we pass arguments to it?"
   ]
  },
  {
   "cell_type": "markdown",
   "metadata": {},
   "source": [
    "# Unix programs and \"shebang\"\n",
    "\n",
    "If the first line of a Unix program contains `#!` -- known as \"hash-bang\" or just \"shebang,\" then Unix takes the rest of the line as the program, and the rest of the file (from the 2nd line on) and feeds it into that program as input."
   ]
  },
  {
   "cell_type": "markdown",
   "metadata": {},
   "source": [
    "# Command-line arguments\n",
    "\n",
    "When we run a command-line program, we can give it one or more command-line arguments. These shape the way in which the program will run. Typically (not always) you can invoke a program with `--help` to get a list of all of the arguments that it supports.\n",
    "\n",
    "We can already see when we use `ls --help` that there are two distinct kinds of arguments:\n",
    "\n",
    "- Regular arguments, which are just values\n",
    "- Options aka keyword arguments, which have `-A` (one letter after the `-`) or `--alpha` (a word after the `--`). Often, these are aliases for one another.\n",
    "\n",
    "We want to do this in our Python programs! We want to be able to write programs that run on the command line, and take any number of arguments and options, and allow us to use that to customize our program's functionality."
   ]
  },
  {
   "cell_type": "markdown",
   "metadata": {},
   "source": [
    "# The simplest (and wrong) way to get arguments\n",
    "\n",
    "In C, we can get command-line arguments with two variables:\n",
    "\n",
    "- `argc` -- the count of how many arguments were passed\n",
    "- `argv` -- an array of strings, the arguments that we got from the user\n",
    "\n",
    "In Python, the language supports something like this:\n",
    "\n",
    "- `sys.argv` is a list of strings containing all of the command-line arguments that the user passed\n",
    "\n",
    "Is there an `argc` in Python? No, because we can just run `len(sys.argv)`."
   ]
  },
  {
   "cell_type": "code",
   "execution_count": null,
   "metadata": {},
   "outputs": [],
   "source": []
  }
 ],
 "metadata": {
  "kernelspec": {
   "display_name": "Python 3 (ipykernel)",
   "language": "python",
   "name": "python3"
  },
  "language_info": {
   "codemirror_mode": {
    "name": "ipython",
    "version": 3
   },
   "file_extension": ".py",
   "mimetype": "text/x-python",
   "name": "python",
   "nbconvert_exporter": "python",
   "pygments_lexer": "ipython3",
   "version": "3.13.5"
  }
 },
 "nbformat": 4,
 "nbformat_minor": 4
}

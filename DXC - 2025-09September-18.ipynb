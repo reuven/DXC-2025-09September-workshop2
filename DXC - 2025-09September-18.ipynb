{
 "cells": [
  {
   "cell_type": "markdown",
   "metadata": {},
   "source": [
    "# Agenda\n",
    "\n",
    "1. Command-line programs and arguments\n",
    "2. `argparse` -- the standard library's way of dealing with arguments\n",
    "3. Practice with `argparse`\n",
    "    - Types\n",
    "    - Defaults\n",
    "    - Positional vs. keyword command-line arguments\n",
    "    - Files\n",
    "\n",
    "Next 2 times:\n",
    "\n",
    "4. Write modules\n",
    "5. Load those modules as dynamic functionality\n",
    "6. Write an extensible command-line program\n",
    "7. Testing of this with `pytest`"
   ]
  },
  {
   "cell_type": "markdown",
   "metadata": {},
   "source": [
    "# Command-line programs\n",
    "\n",
    "When we run a Python program from the command line, how can we pass arguments to it?"
   ]
  },
  {
   "cell_type": "markdown",
   "metadata": {},
   "source": [
    "# Unix programs and \"shebang\"\n",
    "\n",
    "If the first line of a Unix program contains `#!` -- known as \"hash-bang\" or just \"shebang,\" then Unix takes the rest of the line as the program, and the rest of the file (from the 2nd line on) and feeds it into that program as input."
   ]
  },
  {
   "cell_type": "markdown",
   "metadata": {},
   "source": [
    "# Command-line arguments\n",
    "\n",
    "When we run a command-line program, we can give it one or more command-line arguments. These shape the way in which the program will run. Typically (not always) you can invoke a program with `--help` to get a list of all of the arguments that it supports.\n",
    "\n",
    "We can already see when we use `ls --help` that there are two distinct kinds of arguments:\n",
    "\n",
    "- Regular arguments, which are just values\n",
    "- Options aka keyword arguments, which have `-A` (one letter after the `-`) or `--alpha` (a word after the `--`). Often, these are aliases for one another.\n",
    "\n",
    "We want to do this in our Python programs! We want to be able to write programs that run on the command line, and take any number of arguments and options, and allow us to use that to customize our program's functionality."
   ]
  },
  {
   "cell_type": "markdown",
   "metadata": {},
   "source": [
    "# The simplest (and wrong) way to get arguments\n",
    "\n",
    "In C, we can get command-line arguments with two variables:\n",
    "\n",
    "- `argc` -- the count of how many arguments were passed\n",
    "- `argv` -- an array of strings, the arguments that we got from the user\n",
    "\n",
    "In Python, the language supports something like this:\n",
    "\n",
    "- `sys.argv` is a list of strings containing all of the command-line arguments that the user passed\n",
    "\n",
    "Is there an `argc` in Python? No, because we can just run `len(sys.argv)`."
   ]
  },
  {
   "cell_type": "markdown",
   "metadata": {},
   "source": [
    "# What's wrong with `sys.argv`?\n",
    "\n",
    "- We have no control over what arguments are passed (names or types)\n",
    "- We have no options / keyword arguments, it's just values\n",
    "- All the values come to us as strings, which is a problem if we want to calculate with numbers"
   ]
  },
  {
   "cell_type": "markdown",
   "metadata": {},
   "source": [
    "# Exercise 1: Simple greeting\n",
    "\n",
    "1. Write a command-line program that uses `sys.argv`.\n",
    "2. It expects to get two arguments, a person's name and their company name.\n",
    "3. It should print a greeting to the person using their company, too."
   ]
  },
  {
   "cell_type": "markdown",
   "metadata": {},
   "source": [
    "# What's wrong?\n",
    "\n",
    "1. We have to do everything ourselves with `sys.argv`!\n",
    "    - Count arguments\n",
    "    - Assign them to variables\n",
    "    - And (again) they're all strings\n",
    "2. There's no help text\n",
    "3. Every program needs to re-invent the wheel"
   ]
  },
  {
   "cell_type": "markdown",
   "metadata": {},
   "source": [
    "# Next up\n",
    "\n",
    "1. `argparse`\n",
    "2. How it can be used to replace `sys.argv`\n",
    "3. How we can start to get more sophisticated arguments\n",
    "\n",
    "resume at :02"
   ]
  },
  {
   "cell_type": "markdown",
   "metadata": {},
   "source": [
    "# What is `argparse`?\n",
    "\n",
    "It's a module that comes with the Python standard library. It is a layer above `sys.argv` that grabs the command-line arguments and then:\n",
    "\n",
    "- Provides both options (keyword arguments) and positional arguments\n",
    "- Provides aliasing\n",
    "- Provides help text\n",
    "- Translates the values into other Python data types\n",
    "- Works with files\n",
    "- Handles restricted options\n",
    "\n"
   ]
  },
  {
   "cell_type": "markdown",
   "metadata": {},
   "source": [
    "# Basic concepts of `argparse`\n",
    "\n",
    "1. We need to `import argparse`\n",
    "2. We need to create a new `argparse.ArgumentParser()` instance, and that's typically assigned to a variable called `parser`. This object will watch for arguments in `arg.sysv` and allow us to set up a framework for retrieving some of them.\n",
    "3. We need to tell `argparse` what the arguments are that we want, and what values we will accept. This is where the really heavy work happens! This is done with the `parser.add_argument` method, which takes *many* (Python method) arguments.\n",
    "4. Finally, we invoke `parser.parse_args()`, which returns a new namespace whose attributes are the arguments we wanted."
   ]
  },
  {
   "cell_type": "markdown",
   "metadata": {},
   "source": [
    "# Exercise 2: Name and age\n",
    "\n",
    "1. Write, using `argparse` (yes, really this time!) a program that asks the user for their name and age.\n",
    "2. Print both of those on the screen.\n",
    "3. What happens if you change the program, such that it prints the user's age *next* year?"
   ]
  },
  {
   "cell_type": "markdown",
   "metadata": {},
   "source": [
    "# Handling data types\n",
    "\n",
    "If we want `argparse` to treat one or more arguments as integer values, we'll need to tell `argparse` to do that explicitly. In order to that we'll pass the `type` keyword argument to `add_argument`."
   ]
  },
  {
   "cell_type": "markdown",
   "metadata": {},
   "source": [
    "# Exercise 3: Calculator\n",
    "\n",
    "1. Using `argparse`, write a `calc` program that takes three arguments:\n",
    "    - `first`, an integer\n",
    "    - `op`, an operator\n",
    "    - `second`, another integer\n",
    "2. Assuming that you get integers, print the result of running the operation on those ints.\n",
    "3. You can support only `+` and `-`, if you want; others can result in a message.\n"
   ]
  },
  {
   "cell_type": "markdown",
   "metadata": {},
   "source": [
    "# Next up\n",
    "\n",
    "- More options for `add_argument`\n",
    "- Keyword arguments\n",
    "- Files\n",
    "\n",
    "Resume at :07"
   ]
  },
  {
   "cell_type": "code",
   "execution_count": null,
   "metadata": {},
   "outputs": [],
   "source": []
  }
 ],
 "metadata": {
  "kernelspec": {
   "display_name": "Python 3 (ipykernel)",
   "language": "python",
   "name": "python3"
  },
  "language_info": {
   "codemirror_mode": {
    "name": "ipython",
    "version": 3
   },
   "file_extension": ".py",
   "mimetype": "text/x-python",
   "name": "python",
   "nbconvert_exporter": "python",
   "pygments_lexer": "ipython3",
   "version": "3.13.5"
  }
 },
 "nbformat": 4,
 "nbformat_minor": 4
}

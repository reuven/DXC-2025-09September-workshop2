{
 "cells": [
  {
   "cell_type": "markdown",
   "id": "70a08081-23bb-499e-9a40-462f4c1ddb37",
   "metadata": {},
   "source": [
    "# The story so far\n",
    "\n",
    "Last week, we saw how we can write command-line programs that take arguments. We saw:\n",
    "\n",
    "- Arguments are parsed largely by the shell\n",
    "- We get the results of that parsing in a list of strings (`sys.argv`)\n",
    "- We can use `argparse` to interpret `sys.argv` on our behalf\n",
    "    - Types\n",
    "    - (including files)\n",
    "    - Required\n",
    "    - Keyword arguments\n",
    "    - Defaults\n",
    "    - Even accept a number of values for the same argument!\n",
    "\n",
    "All of this contributes to a healthy command-line program. Typically, that kind of program (like many command-line utilities) runs with the inputs from the arguments and then does it computation and then prints some results."
   ]
  },
  {
   "cell_type": "markdown",
   "id": "d294d857-7216-4700-adce-04a7ba3cc370",
   "metadata": {},
   "source": [
    "# Today, we're going to get deeper and more serious\n",
    "\n",
    "1. We're going to look at the `Cmd` module in Python's standard library, which is meant for interactive command-line programs.\n",
    "2. We're going to look at how `Cmd` gives us some flexibility in interpreting the user's inputs\n",
    "3. Then we're going to write a module with extensions that add new commands to our Cmd-powered system\n",
    "4. Then we're see how we can load *multiple* modules with extensions\n",
    "5. Then we'll tie it together, using `argparse` to "
   ]
  }
 ],
 "metadata": {
  "kernelspec": {
   "display_name": "Python 3 (ipykernel)",
   "language": "python",
   "name": "python3"
  },
  "language_info": {
   "codemirror_mode": {
    "name": "ipython",
    "version": 3
   },
   "file_extension": ".py",
   "mimetype": "text/x-python",
   "name": "python",
   "nbconvert_exporter": "python",
   "pygments_lexer": "ipython3",
   "version": "3.13.5"
  }
 },
 "nbformat": 4,
 "nbformat_minor": 5
}

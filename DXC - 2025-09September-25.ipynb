{
 "cells": [
  {
   "cell_type": "markdown",
   "id": "70a08081-23bb-499e-9a40-462f4c1ddb37",
   "metadata": {},
   "source": [
    "# The story so far\n",
    "\n",
    "Last week, we saw how we can write command-line programs that take arguments. We saw:\n",
    "\n",
    "- Arguments are parsed largely by the shell\n",
    "- We get the results of that parsing in a list of strings (`sys.argv`)\n",
    "- We can use `argparse` to interpret `sys.argv` on our behalf\n",
    "    - Types\n",
    "    - (including files)\n",
    "    - Required\n",
    "    - Keyword arguments\n",
    "    - Defaults\n",
    "    - Even accept a number of values for the same argument!\n",
    "\n",
    "All of this contributes to a healthy command-line program. Typically, that kind of program (like many command-line utilities) runs with the inputs from the arguments and then does it computation and then prints some results."
   ]
  },
  {
   "cell_type": "markdown",
   "id": "d294d857-7216-4700-adce-04a7ba3cc370",
   "metadata": {},
   "source": [
    "# Today, we're going to get deeper and more serious\n",
    "\n",
    "1. We're going to look at the `Cmd` module in Python's standard library, which is meant for interactive command-line programs.\n",
    "2. We're going to look at how `Cmd` gives us some flexibility in interpreting the user's inputs\n",
    "3. Then we're going to write a module with extensions that add new commands to our Cmd-powered system\n",
    "4. Then we're see how we can load *multiple* modules with extensions\n",
    "5. Then we'll tie it together, using `argparse` to specify which extentions should be loaded\n",
    "\n",
    "Along the way, we're going to learn lots of stuff:\n",
    "- Object-oriented programming\n",
    "- Modules and how they're built, and how they're imported\n",
    "- Class attributes and methods vs. functions"
   ]
  },
  {
   "cell_type": "markdown",
   "id": "f1df2c45-1dc5-4d14-8b61-1c1aee3ebb71",
   "metadata": {},
   "source": [
    "# What is `Cmd`?\n",
    "\n",
    "It's a module in the Python standard library. The standard library contains hundreds of modules and packages that come with Python when you download and install it. These modules are guaranteed to be installed anywhere Python is installed.\n",
    "\n",
    "Just because a module is in the standard library doesn't mean it is automatically loaded into memory! Only \"builtin\" modules are loaded automatically, as well as some \"frozen\" modules. You need to use `import` to load a standard-library module, unless it's builtin/frozen."
   ]
  },
  {
   "cell_type": "markdown",
   "id": "23c70e84-7239-469b-a080-2f078c9fdb0b",
   "metadata": {},
   "source": [
    "# What's the `if __name__ == '__main__'` line doing?\n",
    "\n",
    "1. When we import a module, or when we run a program, the entire thing is executed from start to finish.\n",
    "2. The `__name__` variable is always defined. It contains a string value, which will be one of two things:\n",
    "    - The string `'__main__'`, which means that it was the first program/module to run, not imported by someone else\n",
    "    - The string corresponding to the module's name, e.g., `mycmd`, which indicates that the file was imported by someone else\n",
    "3. Because the entire file is executed, and because `__name__` has this two-value potential, we can use `if` to determine whether it's running as the main program and then run something appropriate.\n",
    "\n",
    "This allows us to have modules that are both modules (importable) and programs (runnable). This line distinguishes between what happepns when we import (above the line) and what happens when we run (the entire file)."
   ]
  },
  {
   "cell_type": "markdown",
   "id": "4ba5cba1-9a6f-4c5e-968e-3178a3e4f50d",
   "metadata": {},
   "source": [
    "# How do we add commands to our Cmd-based system?\n",
    "\n",
    "Inside of the class that inherits from `cmd.Cmd`, we add methods. Each method must have a name that starts with `do_`, and then has any word you want. If you define `do_xyz`, then the command `xyz` will exist. And if you type `xyz abc` on the command line in the program, then `do_xyz` will be invoked, and `abc` will be passed as its argument."
   ]
  },
  {
   "cell_type": "markdown",
   "id": "9dc7c817-9d19-4487-bd5c-2807f676370a",
   "metadata": {},
   "source": [
    "# How do you set up an exit?\n",
    "\n",
    "The standard way to do this is to define a `do_EOF` method. That returns `True`, and that exits from the loop."
   ]
  },
  {
   "cell_type": "markdown",
   "id": "d671e319-3f70-4738-b64d-3be30ebb10ab",
   "metadata": {},
   "source": [
    "# Exercise 1: Simple calculator\n",
    "\n",
    "1. Using `Cmd`, write a very simple calculator program. The user should be able to type `add x y`, where `x` and `y` are both numbers, and prints the sum of those two.\n",
    "2. Repeat this for `mul` and `sub` and `div`, to multiply, subtract, and divid"
   ]
  }
 ],
 "metadata": {
  "kernelspec": {
   "display_name": "Python 3 (ipykernel)",
   "language": "python",
   "name": "python3"
  },
  "language_info": {
   "codemirror_mode": {
    "name": "ipython",
    "version": 3
   },
   "file_extension": ".py",
   "mimetype": "text/x-python",
   "name": "python",
   "nbconvert_exporter": "python",
   "pygments_lexer": "ipython3",
   "version": "3.13.5"
  }
 },
 "nbformat": 4,
 "nbformat_minor": 5
}

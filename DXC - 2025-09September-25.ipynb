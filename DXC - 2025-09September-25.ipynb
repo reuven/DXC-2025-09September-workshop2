{
 "cells": [
  {
   "cell_type": "markdown",
   "id": "70a08081-23bb-499e-9a40-462f4c1ddb37",
   "metadata": {},
   "source": [
    "# The story so far\n",
    "\n",
    "Last week, we saw how we can write command-line programs that take arguments. We saw:\n",
    "\n",
    "- Arguments are parsed largely by the shell\n",
    "- We get the results of that parsing in a list of strings (`sys.argv`)\n",
    "- We can use `argparse` to interpret `sys.argv` on our behalf\n",
    "    - Types\n",
    "    - (including files)\n",
    "    - Required\n",
    "    - Keyword arguments\n",
    "    - Defaults\n",
    "    - Even accept a number of values for the same argument!\n",
    "\n",
    "All of this contributes to a healthy command-line program. Typically, that kind of program (like many command-line utilities) runs with the inputs from the arguments and then does it computation and then prints some results."
   ]
  },
  {
   "cell_type": "markdown",
   "id": "d294d857-7216-4700-adce-04a7ba3cc370",
   "metadata": {},
   "source": [
    "# Today, we're going to get deeper and more serious\n",
    "\n",
    "1. We're going to look at the `Cmd` module in Python's standard library, which is meant for interactive command-line programs.\n",
    "2. We're going to look at how `Cmd` gives us some flexibility in interpreting the user's inputs\n",
    "3. Then we're going to write a module with extensions that add new commands to our Cmd-powered system\n",
    "4. Then we're see how we can load *multiple* modules with extensions\n",
    "5. Then we'll tie it together, using `argparse` to specify which extentions should be loaded\n",
    "\n",
    "Along the way, we're going to learn lots of stuff:\n",
    "- Object-oriented programming\n",
    "- Modules and how they're built, and how they're imported\n",
    "- Class attributes and methods vs. functions"
   ]
  },
  {
   "cell_type": "markdown",
   "id": "f1df2c45-1dc5-4d14-8b61-1c1aee3ebb71",
   "metadata": {},
   "source": [
    "# What is `Cmd`?\n",
    "\n",
    "It's a module in the Python standard library. The standard library contains hundreds of modules and packages that come with Python when you download and install it. These modules are guaranteed to be installed anywhere Python is installed.\n",
    "\n",
    "Just because a module is in the standard library doesn't mean it is automatically loaded into memory! Only \"builtin\" modules are loaded automatically, as well as some \"frozen\" modules. You need to use `import` to load a standard-library module, unless it's builtin/frozen."
   ]
  },
  {
   "cell_type": "markdown",
   "id": "23c70e84-7239-469b-a080-2f078c9fdb0b",
   "metadata": {},
   "source": [
    "# What's the `if __name__ == '__main__'` line doing?\n",
    "\n",
    "1. When we import a module, or when we run a program, the entire thing is executed from start to finish.\n",
    "2. The `__name__` variable is always defined. It contains a string value, which will be one of two things:\n",
    "    - The string `'__main__'`, which means that it was the first program/module to run, not imported by someone else\n",
    "    - The string corresponding to the module's name, e.g., `mycmd`, which indicates that the file was imported by someone else\n",
    "3. Because the entire file is executed, and because `__name__` has this two-value potential, we can use `if` to determine whether it's running as the main program and then run something appropriate.\n",
    "\n",
    "This allows us to have modules that are both modules (importable) and programs (runnable). This line distinguishes between what happepns when we import (above the line) and what happens when we run (the entire file)."
   ]
  },
  {
   "cell_type": "markdown",
   "id": "4ba5cba1-9a6f-4c5e-968e-3178a3e4f50d",
   "metadata": {},
   "source": [
    "# How do we add commands to our Cmd-based system?\n",
    "\n",
    "Inside of the class that inherits from `cmd.Cmd`, we add methods. Each method must have a name that starts with `do_`, and then has any word you want. If you define `do_xyz`, then the command `xyz` will exist. And if you type `xyz abc` on the command line in the program, then `do_xyz` will be invoked, and `abc` will be passed as its argument."
   ]
  },
  {
   "cell_type": "markdown",
   "id": "9dc7c817-9d19-4487-bd5c-2807f676370a",
   "metadata": {},
   "source": [
    "# How do you set up an exit?\n",
    "\n",
    "The standard way to do this is to define a `do_EOF` method. That returns `True`, and that exits from the loop."
   ]
  },
  {
   "cell_type": "markdown",
   "id": "d671e319-3f70-4738-b64d-3be30ebb10ab",
   "metadata": {},
   "source": [
    "# Exercise 7: Simple calculator\n",
    "\n",
    "1. Using `Cmd`, write a very simple calculator program. The user should be able to type `add x y`, where `x` and `y` are both numbers, and prints the sum of those two.\n",
    "2. Repeat this for `mul` and `sub` and `div`, to multiply, subtract, and divide.\n",
    "3. Let's assume for now that the user will enter numbers where needed."
   ]
  },
  {
   "cell_type": "markdown",
   "id": "146bd6d2-99d4-4189-8c74-5c2038e7b100",
   "metadata": {},
   "source": [
    "# Next up\n",
    "\n",
    "1. Additional `Cmd` functionality to \"DRY up\" our code\n",
    "    - Reduce repetition\n",
    "    - Handle more interesting (e.g., symbols) in our calculator\n",
    "2. Dynamically adding new methods to our calculator\n",
    "\n",
    "Resume at :08"
   ]
  },
  {
   "cell_type": "markdown",
   "id": "49db494a-b67e-4303-aeb2-c358ff7f90c2",
   "metadata": {},
   "source": [
    "# DRY -- \"don't repeat yourself\"\n",
    "\n",
    "- If you have the same code repeated several lines in a row, then use a loop\n",
    "- If you have the same code in several parts of your program, then use a function\n",
    "- If you have the same code in several programs, then use a library/module/package\n",
    "\n",
    "This has a lot of advantages -- the biggest one being that you save time! You write things once and then use them many times."
   ]
  },
  {
   "cell_type": "markdown",
   "id": "48eb76a3-b18d-4d13-92de-f960af0ad48e",
   "metadata": {},
   "source": [
    "# Exercise 8: Documented, DRY-ed up calculator\n",
    "\n",
    "1. Write a method, `to_integers`, that takes the input string (`line`) and returns a two-element list of integers based on the input string.\n",
    "2. (You can print an error message if you want, but we're not really going to deal with error handling here.)\n",
    "3. Modify your `do_` methods to use `to_integers` so that teach method is a bit shorter to write/update/understand.\n",
    "4. Update each of these methods such that they have docstrings, and are documented from within Cmd."
   ]
  },
  {
   "cell_type": "markdown",
   "id": "1b2cc7e3-7d4f-4370-bf11-40053b20fe56",
   "metadata": {},
   "source": [
    "# What if I want to mess with the input line?\n",
    "\n",
    "Right now, if someone enters `ABC` and we have `do_abc`, it won't match.  In many cases, we might want to modify the input line slightly before it is passed to a `do_X` method.\n",
    "\n",
    "The way to do this is with `precmd`. If you define a method by this name in your class, then whatever the user enters is first passed to `precmd`.  This means that you can mess with the line -- whatever `precmd` returns is then actually parsed and handed over to a `do_X` method."
   ]
  },
  {
   "cell_type": "markdown",
   "id": "6bf46208-bfb8-4484-9c3a-ca469f9be254",
   "metadata": {},
   "source": [
    "# Exercise 9: Allow for operators\n",
    "\n",
    "Modify your calculator program, such that instead of saying `add`, we can say `+`. Ditto for the other 3 operators (`-`, `*`, `/`).\n",
    "\n",
    "If someone enters `+ 2 3`, then it should invoke `do_add` on `2 3` and then go through the transformation."
   ]
  },
  {
   "cell_type": "markdown",
   "id": "11a19f23-59b6-4876-95d9-66ffe2ce9d47",
   "metadata": {},
   "source": [
    "# Next up\n",
    "\n",
    "1. Methods and adding them dynamically\n",
    "2. Modules, loading them, and adding dynamic methods\n",
    "\n",
    "Resume at :04"
   ]
  },
  {
   "cell_type": "markdown",
   "id": "2e1573f0-18cf-4f36-930e-1c441cbeef15",
   "metadata": {},
   "source": [
    "# What is a method?\n",
    "\n",
    "You're typically told:\n",
    "\n",
    "- A method is basically a function defined inside of a class\n",
    "- You invoke the method on the instance, and the instance is assigned to the first parameter, `self`\n",
    "- If you want, you can invoke the method directly on the class, passing the instance as the first argument\n",
    "\n",
    "It's true that methods are rewritten magically."
   ]
  },
  {
   "cell_type": "code",
   "execution_count": 1,
   "id": "3b0152ab-e985-4876-a116-44eba58c91aa",
   "metadata": {},
   "outputs": [
    {
     "data": {
      "text/plain": [
       "'ABCDE'"
      ]
     },
     "execution_count": 1,
     "metadata": {},
     "output_type": "execute_result"
    }
   ],
   "source": [
    "s = 'abcde'\n",
    "\n",
    "s.upper()"
   ]
  },
  {
   "cell_type": "markdown",
   "id": "1e35f49d-25ba-4490-8b06-990489a01849",
   "metadata": {},
   "source": [
    "When we invoke `s.upper()`, Python actually rewrites this to be"
   ]
  },
  {
   "cell_type": "code",
   "execution_count": 3,
   "id": "c23a1ab4-1d2d-4a6f-84f0-dc2c5d9c6b3b",
   "metadata": {},
   "outputs": [
    {
     "data": {
      "text/plain": [
       "'ABCDE'"
      ]
     },
     "execution_count": 3,
     "metadata": {},
     "output_type": "execute_result"
    }
   ],
   "source": [
    "str.upper(s)  # the instance became the first argument!"
   ]
  },
  {
   "cell_type": "code",
   "execution_count": 4,
   "id": "0a0b111d-bfbc-448c-aabf-6f9faac9e6a5",
   "metadata": {},
   "outputs": [
    {
     "name": "stdout",
     "output_type": "stream",
     "text": [
      "Help on method_descriptor:\n",
      "\n",
      "upper(self, /) unbound builtins.str method\n",
      "    Return a copy of the string converted to uppercase.\n",
      "\n"
     ]
    }
   ],
   "source": [
    "help(str.upper)"
   ]
  },
  {
   "cell_type": "markdown",
   "id": "496b6afa-69b5-421c-99cd-fff4f0f4f686",
   "metadata": {},
   "source": [
    "How does Python perform this kind of switcheroo? When does it do it?\n",
    "\n",
    "How are methods and functions actually different from one another?"
   ]
  }
 ],
 "metadata": {
  "kernelspec": {
   "display_name": "Python 3 (ipykernel)",
   "language": "python",
   "name": "python3"
  },
  "language_info": {
   "codemirror_mode": {
    "name": "ipython",
    "version": 3
   },
   "file_extension": ".py",
   "mimetype": "text/x-python",
   "name": "python",
   "nbconvert_exporter": "python",
   "pygments_lexer": "ipython3",
   "version": "3.13.5"
  }
 },
 "nbformat": 4,
 "nbformat_minor": 5
}
